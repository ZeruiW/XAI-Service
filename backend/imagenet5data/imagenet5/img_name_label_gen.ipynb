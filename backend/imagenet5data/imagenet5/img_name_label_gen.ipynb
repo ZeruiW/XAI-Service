{
 "cells": [
  {
   "cell_type": "code",
   "execution_count": 5,
   "metadata": {},
   "outputs": [],
   "source": [
    "import os\n",
    "\n",
    "class_names = [\n",
    "    'n01443537',    # goldfish\n",
    "    'n01608432',    # kite (kind of bird)\n",
    "    'n01882714',    # koala\n",
    "    'n02091635',    # otterhound (ko dog)\n",
    "    'n02123159'     # tiger_cat\n",
    "]\n",
    "\n",
    "ls = os.listdir('.')\n",
    "\n",
    "import csv\n",
    "\n",
    "rs = []\n",
    "\n",
    "img_c = 0\n",
    "i = 0\n",
    "for cn in class_names:\n",
    "    lss = os.listdir(os.path.join('.', cn))\n",
    "    for n in lss:\n",
    "        rs.append([img_c, n, cn, i])\n",
    "        img_c += 1\n",
    "    i += 1\n",
    "\n",
    "\n",
    "with open('img_name_label_2.csv', 'w', newline='') as file:\n",
    "    writer = csv.writer(file)\n",
    "    writer.writerow([\"\", \"0\", \"1\", \"2\"])\n",
    "    # writer.writerow([\"SN\", \"Movie\", \"Protagonist\"])\n",
    "    # writer.writerow([1, \"Lord of the Rings\", \"Frodo Baggins\"])\n",
    "    # writer.writerow([2, \"Harry Potter\", \"Harry Potter\"])\n",
    "    for r in rs:\n",
    "        writer.writerow(r)\n",
    "        \n"
   ]
  }
 ],
 "metadata": {
  "interpreter": {
   "hash": "06c1989d45dd0048b5a54a41f202612e81229c6f2cc344a056c24cd0287f5416"
  },
  "kernelspec": {
   "display_name": "Python 3.9.7 ('xaifw')",
   "language": "python",
   "name": "python3"
  },
  "language_info": {
   "codemirror_mode": {
    "name": "ipython",
    "version": 3
   },
   "file_extension": ".py",
   "mimetype": "text/x-python",
   "name": "python",
   "nbconvert_exporter": "python",
   "pygments_lexer": "ipython3",
   "version": "3.9.7"
  },
  "orig_nbformat": 4
 },
 "nbformat": 4,
 "nbformat_minor": 2
}
